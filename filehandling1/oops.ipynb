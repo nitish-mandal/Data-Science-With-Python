{
 "cells": [
  {
   "cell_type": "code",
   "execution_count": 6,
   "id": "85ac9284",
   "metadata": {},
   "outputs": [
    {
     "name": "stdout",
     "output_type": "stream",
     "text": [
      "BMW costs 50000000\n"
     ]
    }
   ],
   "source": [
    "class Car:\n",
    "    def __init__(self, brand, price):   # added space after def and colon at end\n",
    "        self.brand = brand              # corrected attribute name\n",
    "        self.price = price              # fixed typo (self,p -> self.price)\n",
    "\n",
    "    def show(self):                     # added colon at end\n",
    "        print(f\"{self.brand} costs {self.price}\")  \n",
    "\n",
    "# object \n",
    "c1 = Car(\"BMW\", 50000000)\n",
    "c1.show()   # added () to actually call the method\n"
   ]
  }
 ],
 "metadata": {
  "kernelspec": {
   "display_name": "Python 3",
   "language": "python",
   "name": "python3"
  },
  "language_info": {
   "codemirror_mode": {
    "name": "ipython",
    "version": 3
   },
   "file_extension": ".py",
   "mimetype": "text/x-python",
   "name": "python",
   "nbconvert_exporter": "python",
   "pygments_lexer": "ipython3",
   "version": "3.12.2"
  }
 },
 "nbformat": 4,
 "nbformat_minor": 5
}
