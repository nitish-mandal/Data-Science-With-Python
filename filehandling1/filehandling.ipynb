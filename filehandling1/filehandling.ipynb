{
 "cells": [
  {
   "cell_type": "code",
   "execution_count": 1,
   "id": "40f5fbf0",
   "metadata": {},
   "outputs": [
    {
     "name": "stdout",
     "output_type": "stream",
     "text": [
      "hello i am overwriting content\n",
      " append operation using in this\n",
      "first line \n",
      "second line \n",
      "third line\n",
      "\n"
     ]
    }
   ],
   "source": [
    "### read a whole file...\n",
    "\n",
    "with open('example.txt','r') as file:\n",
    "    content = file.read()\n",
    "    print(content)"
   ]
  },
  {
   "cell_type": "code",
   "execution_count": 27,
   "id": "afc18c64",
   "metadata": {},
   "outputs": [
    {
     "name": "stdout",
     "output_type": "stream",
     "text": [
      "hello i am overwriting content\n",
      "append operation using in this\n"
     ]
    }
   ],
   "source": [
    "## read a file line by line...\n",
    "\n",
    "with open('example.txt','r') as file:\n",
    "    for line in file:\n",
    "        print(line.strip()) ## strip() removes the new line character.."
   ]
  },
  {
   "cell_type": "code",
   "execution_count": 28,
   "id": "0d96375a",
   "metadata": {},
   "outputs": [],
   "source": [
    "## writing a file(overwriting).. \n",
    "## not good way to use...\n",
    "\n",
    "with open('example.txt','w') as file:\n",
    "    file.write('hello i am overwriting content')"
   ]
  },
  {
   "cell_type": "code",
   "execution_count": 29,
   "id": "e1b316d5",
   "metadata": {},
   "outputs": [],
   "source": [
    "## write file code(without overwiting)...\n",
    "### by using append..\n",
    "\n",
    "with open('example.txt','a') as file:\n",
    "    file.write(\"\\n append operation using in this\")"
   ]
  },
  {
   "cell_type": "code",
   "execution_count": 30,
   "id": "55c8c8e2",
   "metadata": {},
   "outputs": [],
   "source": [
    "\n",
    "## writing a list of line to a file..\n",
    "\n",
    "lines = ['\\nfirst line \\n','second line \\n','third line\\n']\n",
    "with open('example.txt','a') as file:\n",
    "    file.writelines(lines)"
   ]
  },
  {
   "cell_type": "code",
   "execution_count": 18,
   "id": "0a639a17",
   "metadata": {},
   "outputs": [],
   "source": [
    "## binary files..\n",
    "\n",
    "## writing to binary files.\n",
    "\n",
    "data = b'\\x00\\x01\\x02\\x03\\x04'\n",
    "with open('example.bin','wb') as file:\n",
    "    file.write(data)"
   ]
  },
  {
   "cell_type": "code",
   "execution_count": 19,
   "id": "87a03397",
   "metadata": {},
   "outputs": [
    {
     "name": "stdout",
     "output_type": "stream",
     "text": [
      "b'\\x00\\x01\\x02\\x03\\x04'\n"
     ]
    }
   ],
   "source": [
    "## reading a binary file..\n",
    "\n",
    "with open('example.bin','rb') as file:\n",
    "    content = file.read()\n",
    "    print(content)"
   ]
  },
  {
   "cell_type": "code",
   "execution_count": 21,
   "id": "a2acf8bd",
   "metadata": {},
   "outputs": [],
   "source": [
    "## read the content from a source text file and write to a detination text file..\n",
    "# copying a text file.\n",
    "\n",
    "with open('example.txt','r') as source_file:\n",
    "    content = source_file.read()\n",
    "\n",
    "with open('destination.txt','w') as destination_file:\n",
    "    destination_file.write(content)   \n"
   ]
  },
  {
   "cell_type": "code",
   "execution_count": 23,
   "id": "2fe3c4ff",
   "metadata": {},
   "outputs": [
    {
     "name": "stdout",
     "output_type": "stream",
     "text": [
      "lines : 9, words: 22, Characters: 136\n"
     ]
    }
   ],
   "source": [
    "## Read a text file and count the number of lines , words, and character..\n",
    "\n",
    "def count_text_file(file_path):\n",
    "    with open(file_path,'r') as file:\n",
    "        lines = file.readlines()\n",
    "        line_count = len(lines)\n",
    "        word_count = sum(len(line.split()) for line in lines)\n",
    "        char_count = sum(len(line) for line in lines)\n",
    "    return line_count, word_count, char_count\n",
    "\n",
    "file_path = 'example.txt'\n",
    "lines, words, characters = count_text_file(file_path)\n",
    "print(f'lines : {lines}, words: {words}, Characters: {characters}')    "
   ]
  },
  {
   "cell_type": "markdown",
   "id": "94ca6cbc",
   "metadata": {},
   "source": [
    "The w+ mode in python is used to open a file for both reading and writing. if the file does not exist , it will be created. if the file exist , it's content is truncated (i.e.. the file is overwritten )"
   ]
  },
  {
   "cell_type": "code",
   "execution_count": 24,
   "id": "934db44a",
   "metadata": {},
   "outputs": [
    {
     "name": "stdout",
     "output_type": "stream",
     "text": [
      "hello world \n",
      "this is a new line \n",
      " \n"
     ]
    }
   ],
   "source": [
    "### writing and then reading a file..\n",
    "\n",
    "with open('example.txt','w+') as file:\n",
    "    file.write(\"hello world \\n\")\n",
    "    file.write(\"this is a new line \\n \")\n",
    "\n",
    "    ## move the file cursor to the begining \n",
    "    file.seek(0)\n",
    "\n",
    "    ## read the content of the file.\n",
    "    content = file.read()\n",
    "    print(content)\n",
    "               "
   ]
  }
 ],
 "metadata": {
  "kernelspec": {
   "display_name": "Python 3",
   "language": "python",
   "name": "python3"
  },
  "language_info": {
   "codemirror_mode": {
    "name": "ipython",
    "version": 3
   },
   "file_extension": ".py",
   "mimetype": "text/x-python",
   "name": "python",
   "nbconvert_exporter": "python",
   "pygments_lexer": "ipython3",
   "version": "3.12.2"
  }
 },
 "nbformat": 4,
 "nbformat_minor": 5
}
