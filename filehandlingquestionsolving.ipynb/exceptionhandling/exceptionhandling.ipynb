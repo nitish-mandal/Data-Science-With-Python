{
 "cells": [
  {
   "cell_type": "code",
   "execution_count": 1,
   "id": "75075aaf",
   "metadata": {},
   "outputs": [
    {
     "name": "stdout",
     "output_type": "stream",
     "text": [
      "the variable has not been assigned\n"
     ]
    }
   ],
   "source": [
    "### Exception try, except block\n",
    "\n",
    "try :\n",
    "    a=b \n",
    "except:\n",
    "    print(\"the variable has not been assigned\")    "
   ]
  },
  {
   "cell_type": "code",
   "execution_count": 1,
   "id": "d04817ce",
   "metadata": {},
   "outputs": [
    {
     "name": "stdout",
     "output_type": "stream",
     "text": [
      "name 'b' is not defined\n"
     ]
    }
   ],
   "source": [
    "## another way ..\n",
    "\n",
    "try :\n",
    "    a=b\n",
    "except NameError as ex:\n",
    "    print(ex)    "
   ]
  },
  {
   "cell_type": "code",
   "execution_count": null,
   "id": "5ae92093",
   "metadata": {},
   "outputs": [
    {
     "name": "stdout",
     "output_type": "stream",
     "text": [
      "division by zero\n",
      "please enter the dnominator greater than 0\n"
     ]
    }
   ],
   "source": [
    "try :\n",
    "    result = 1/0\n",
    "except ZeroDivisionError as ex:\n",
    "    print(ex) \n",
    "    print(\"please enter the denominator greater than 0\")   "
   ]
  },
  {
   "cell_type": "code",
   "execution_count": null,
   "id": "ac21f1fa",
   "metadata": {},
   "outputs": [
    {
     "name": "stdout",
     "output_type": "stream",
     "text": [
      "division by zero\n",
      "please enter the dnominator greater than 0\n"
     ]
    }
   ],
   "source": [
    "## handle multiple exception...\n",
    "\n",
    "try :\n",
    "    result = 1/0\n",
    "    a=b     ###  NameError (ye kabhi run hi nahi hota)..  jo pehle aayega wahi run hoga \n",
    "except ZeroDivisionError as ex:\n",
    "    print(ex) \n",
    "    print(\"please enter the denominator greater than 0\")   \n",
    "except Exception as ex1:\n",
    "    print(ex1) \n",
    "    print('main exception got caught here..')   \n"
   ]
  },
  {
   "cell_type": "code",
   "execution_count": 15,
   "id": "f0ab95c6",
   "metadata": {},
   "outputs": [
    {
     "name": "stdout",
     "output_type": "stream",
     "text": [
      "0.29411764705882354\n"
     ]
    }
   ],
   "source": [
    "try:\n",
    "    num = int(input(\"enter a number...\"))\n",
    "    result = 10/num   \n",
    "except ValueError:  \n",
    "    print(\"This is not a valid number..\")\n",
    "except ZeroDivisionError:\n",
    "    print(\"enter denominator greater than zero..\")\n",
    "except Exception as ex:\n",
    "    print(ex) \n",
    "\n",
    "print(result)             "
   ]
  },
  {
   "cell_type": "code",
   "execution_count": null,
   "id": "a07e59ef",
   "metadata": {},
   "outputs": [
    {
     "name": "stdout",
     "output_type": "stream",
     "text": [
      "This is not a valid number..\n"
     ]
    }
   ],
   "source": [
    "### try,except and else block...\n",
    "try:  \n",
    "    num = int(input(\"enter a number...\"))\n",
    "    result = 10/num   \n",
    "except ValueError:  \n",
    "    print(\"This is not a valid number..\")\n",
    "except ZeroDivisionError:\n",
    "    print(\"enter denominator greater than zero..\")\n",
    "except Exception as ex:\n",
    "    print(ex) \n",
    "\n",
    "else:    ##else block → agar try block me koi error nahi aaya, tab chalega.\n",
    "    print(f\"the result is {result}\")"
   ]
  },
  {
   "cell_type": "code",
   "execution_count": 17,
   "id": "e5423d9b",
   "metadata": {},
   "outputs": [
    {
     "name": "stdout",
     "output_type": "stream",
     "text": [
      "the result is 0.43478260869565216\n",
      "execution complete..\n"
     ]
    }
   ],
   "source": [
    "### try , except, else and finally ..\n",
    "\n",
    "try:   ## if error is not in try  than else will executed..\n",
    "    num = int(input(\"enter a number...\"))\n",
    "    result = 10/num   \n",
    "except ValueError:  \n",
    "    print(\"This is not a valid number..\")\n",
    "except ZeroDivisionError:\n",
    "    print(\"enter denominator greater than zero..\")\n",
    "except Exception as ex:\n",
    "    print(ex) \n",
    "\n",
    "else:\n",
    "    print(f\"the result is {result}\")\n",
    "\n",
    "finally:    ## in this it have to executed if error come or not...\n",
    "    print(\"execution complete..\")"
   ]
  },
  {
   "cell_type": "code",
   "execution_count": null,
   "id": "a7c57065",
   "metadata": {},
   "outputs": [],
   "source": [
    "### file handling and exception handling ...\n",
    "\n",
    "try:\n",
    "    file = open('no_file','r')\n",
    "    content = file.read()\n",
    "    print(content)\n",
    "\n",
    "except FileNotFoundError:\n",
    "    print(\"the file does not exist \")\n",
    "\n",
    "finally :\n",
    "    if  'file' in locals() and not file.closed():    ## locals() checks if file variable define or not.\n",
    "        file.closed()\n",
    "        print(\"file closed\")\n"
   ]
  }
 ],
 "metadata": {
  "kernelspec": {
   "display_name": "Python 3",
   "language": "python",
   "name": "python3"
  },
  "language_info": {
   "codemirror_mode": {
    "name": "ipython",
    "version": 3
   },
   "file_extension": ".py",
   "mimetype": "text/x-python",
   "name": "python",
   "nbconvert_exporter": "python",
   "pygments_lexer": "ipython3",
   "version": "3.12.2"
  }
 },
 "nbformat": 4,
 "nbformat_minor": 5
}
