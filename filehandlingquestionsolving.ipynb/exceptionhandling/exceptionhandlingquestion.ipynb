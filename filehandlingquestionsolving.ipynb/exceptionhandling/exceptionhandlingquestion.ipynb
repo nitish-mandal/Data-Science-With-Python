{
 "cells": [
  {
   "cell_type": "markdown",
   "id": "1b651010",
   "metadata": {},
   "source": [
    "# Module: Exception Handling Assignments\n",
    "## Lesson: Exception Handling with try, except, and finally\n",
    "### Assignment 1: Handling Division by Zero\n",
    "\n",
    ".Write a function that takes two integers as input and returns their division. Use try, except, and finally blocks to handle division by zero and print an appropriate message\n",
    "\n",
    "### Assignment 2: File Reading with Exception Handling\n",
    "\n",
    "Write a function that reads the contents of a file named `data.txt`. Use try, except, and finally blocks to handle file not found errors and ensure the file is properly closed.\n",
    "\n",
    "### Assignment 3: Handling Multiple Exceptions\n",
    "\n",
    "Write a function that takes a list of integers and returns their sum. Use try, except, and finally blocks to handle TypeError if a non-integer value is encountered and print an appropriate message.\n",
    "\n",
    "### Assignment 4: Exception Handling in User Input\n",
    "\n",
    "Write a function that prompts the user to enter an integer. Use try, except, and finally blocks to handle ValueError if the user enters a non-integer value and print an appropriate message.\n",
    "\n",
    "### Assignment 5: Exception Handling in Dictionary Access\n",
    "\n",
    "Write a function that takes a dictionary and a key as input and returns the value associated with the key. Use try, except, and finally blocks to handle KeyError if the key is not found in the dictionary and print an appropriate message.\n",
    "\n",
    "### Assignment 6: Nested Exception Handling\n",
    "\n",
    "Write a function that performs nested exception handling. It should first attempt to convert a string to an integer, and then attempt to divide by that integer. Use nested try, except, and finally blocks to handle ValueError and ZeroDivisionError and print appropriate messages.\n",
    "\n",
    "### Assignment 7: Exception Handling in List Operations\n",
    "\n",
    "Write a function that takes a list and an index as input and returns the element at the given index. Use try, except, and finally blocks to handle IndexError if the index is out of range and print an appropriate message.\n",
    "\n",
    "### Assignment 8: Exception Handling in Network Operations\n",
    "\n",
    "Write a function that attempts to open a URL and read its contents. Use try, except, and finally blocks to handle network-related errors and print an appropriate message.\n",
    "\n",
    "### Assignment 9: Exception Handling in JSON Parsing\n",
    "\n",
    "Write a function that attempts to parse a JSON string. Use try, except, and finally blocks to handle JSONDecodeError if the string is not a valid JSON and print an appropriate message.\n",
    "\n",
    "### Assignment 10: Custom Exception Handling\n",
    "\n",
    "Define a custom exception named `NegativeNumberError`. Write a function that raises this exception if a negative number is encountered in a list. Use try, except, and finally blocks to handle the custom exception and print an appropriate message.\n",
    "\n",
    "### Assignment 11: Exception Handling in Function Calls\n",
    "\n",
    "Write a function that calls another function which may raise an exception. Use try, except, and finally blocks to handle the exception and print an appropriate message.\n",
    "\n",
    "### Assignment 12: Exception Handling in Class Methods\n",
    "\n",
    "Define a class with a method that performs a division operation. Use try, except, and finally blocks within the method to handle division by zero and print an appropriate message.\n",
    "\n",
    "### Assignment 13: Exception Handling in Data Conversion\n",
    "\n",
    "Write a function that takes a list of strings and converts them to integers. Use try, except, and finally blocks to handle ValueError if a string cannot be converted and print an appropriate message.\n",
    "\n",
    "### Assignment 14: Exception Handling in List Comprehensions\n",
    "\n",
    "Write a function that uses a list comprehension to convert a list of strings to integers. Use try, except, and finally blocks within the list comprehension to handle ValueError and print an appropriate message.\n",
    "\n",
    "### Assignment 15: Exception Handling in File Writing\n",
    "\n",
    "Write a function that attempts to write a list of strings to a file. Use try, except, and finally blocks to handle IOError and ensure the file is properly closed."
   ]
  },
  {
   "cell_type": "code",
   "execution_count": null,
   "id": "56ddee61",
   "metadata": {},
   "outputs": [],
   "source": []
  },
  {
   "cell_type": "code",
   "execution_count": 4,
   "id": "aa953342",
   "metadata": {},
   "outputs": [
    {
     "name": "stdout",
     "output_type": "stream",
     "text": [
      "execution  complete \n",
      "0.75\n"
     ]
    }
   ],
   "source": [
    "## Write a function that takes two integers as input and returns their division. Use try, except, and finally blocks\n",
    "#  to handle division by zero and print an appropriate message\n",
    "\n",
    "def division(a,b):\n",
    "    try:\n",
    "         result = a/b\n",
    "    except ZeroDivisionError as ex:\n",
    "         print(f\"Error{ex}\") \n",
    "         result = None\n",
    "    finally :\n",
    "         print('execution  complete ')\n",
    "    return result\n",
    "\n",
    "print(division(3,4))                  \n",
    "\n"
   ]
  },
  {
   "cell_type": "code",
   "execution_count": null,
   "id": "bcb8d8d7",
   "metadata": {},
   "outputs": [
    {
     "name": "stdout",
     "output_type": "stream",
     "text": [
      "[Errno 2] No such file or directory: 'data.txt'\n",
      "None\n"
     ]
    }
   ],
   "source": [
    "## Write a function that reads the contents of a file named `data.txt`. Use try, except, and finally blocks to\n",
    "#  handle file not found errors and ensure the file is properly closed.\n",
    "\n",
    "def read_content(filename):\n",
    "    try:\n",
    "        with open('data.txt','r') as file:\n",
    "            content = filename.read()\n",
    "            print(content)\n",
    "    except   FileNotFoundError as ex:\n",
    "        print(ex)\n",
    "\n",
    "    finally :\n",
    "        try:\n",
    "            file.closed()\n",
    "        except NameError:\n",
    "            pass\n",
    "\n",
    "print(read_content('data.txt'))\n",
    "        \n",
    "        \n",
    "\n"
   ]
  },
  {
   "cell_type": "code",
   "execution_count": null,
   "id": "05106b03",
   "metadata": {},
   "outputs": [
    {
     "name": "stdout",
     "output_type": "stream",
     "text": [
      "Error : unsupported operand type(s) for +=: 'int' and 'str'\n",
      "Execution Complete.\n",
      "None\n",
      "Execution Complete.\n",
      "10\n"
     ]
    }
   ],
   "source": [
    "## Write a function that takes a list of integers and returns their sum. Use try, except, and finally blocks to \n",
    "# handle TypeError if a non-integer value is encountered and print an appropriate message.\n",
    "\n",
    "\n",
    "def lis_int(list):\n",
    "    total = 0\n",
    "    try:\n",
    "        for item in list:\n",
    "            total += item \n",
    "    except TypeError as ex:\n",
    "        print(f\"Error : {ex}\")\n",
    "        total = None \n",
    "    finally :\n",
    "        print(\"Execution Complete.\")\n",
    "    return total\n",
    "    \n",
    "print(lis_int([1,2,3,4,'a']))    \n",
    "print(lis_int([1,2,3,4]))\n",
    "                    \n"
   ]
  },
  {
   "cell_type": "code",
   "execution_count": 11,
   "id": "39d98841",
   "metadata": {},
   "outputs": [
    {
     "name": "stdout",
     "output_type": "stream",
     "text": [
      " The Value is Non-Integer : invalid literal for int() with base 10: 'q'\n",
      "execution complete..\n",
      "None\n"
     ]
    }
   ],
   "source": [
    "### Write a function that prompts the user to enter an integer. Use try, except, and finally blocks to handle\n",
    "#  ValueError if the user enters a non-integer value and print an appropriate message.\n",
    "\n",
    "\n",
    "def prom_int():\n",
    "    try:\n",
    "        value = int(input(\"enter a  integer value..\"))\n",
    "    except ValueError as ex:\n",
    "        print(f\" The Value is Non-Integer : {ex}\")\n",
    "        value = None\n",
    "    finally :\n",
    "        print(\"execution complete..\")\n",
    "    return value    \n",
    "print(prom_int())            \n"
   ]
  },
  {
   "cell_type": "code",
   "execution_count": 12,
   "id": "6575901a",
   "metadata": {},
   "outputs": [
    {
     "name": "stdout",
     "output_type": "stream",
     "text": [
      "execution complete..\n",
      "1\n"
     ]
    }
   ],
   "source": [
    "\n",
    "## Write a function that takes a dictionary and a key as input and returns the value associated with the key. \n",
    "# Use try, except, and finally blocks to handle KeyError if the key is not found in the dictionary and print an \n",
    "# appropriate message.\n",
    "\n",
    "\n",
    "def fuc_dic(d,key):\n",
    "    try:\n",
    "        value = d[key]\n",
    "    except KeyError as ex:\n",
    "        print(f\"Error : {ex}\")\n",
    "        value = None\n",
    "    finally :\n",
    "        print(\"execution complete..\")\n",
    "\n",
    "    return value\n",
    "\n",
    "d = {'a':1,'b':2,'c':3}\n",
    "\n",
    "print(fuc_dic(d,'a'))            \n",
    "        \n"
   ]
  },
  {
   "cell_type": "code",
   "execution_count": null,
   "id": "54923705",
   "metadata": {},
   "outputs": [
    {
     "name": "stdout",
     "output_type": "stream",
     "text": [
      "ValueError: The string is not a valid integer: invalid literal for int() with base 10: 'a'\n",
      "Outer finally block executed.\n",
      "\n",
      "Result is: 20.0\n",
      "Inner finally block executed.\n",
      "Outer finally block executed.\n",
      "\n",
      "ZeroDivisionError: Cannot divide by zero: division by zero\n",
      "Inner finally block executed.\n",
      "Outer finally block executed.\n"
     ]
    }
   ],
   "source": [
    "## Write a function that performs nested exception handling. It should first attempt to convert a string to an\n",
    "#  integer, and then attempt to divide by that integer. Use nested try, except, and finally blocks to handle\n",
    "#  ValueError and ZeroDivisionError and print appropriate messages.\n",
    "\n",
    "\n",
    "def nested_fun(str_num):\n",
    "    try:\n",
    "        try:\n",
    "            number = int(str_num)       # First attempt: Convert string to integer\n",
    "        except ValueError as ex:\n",
    "            print(f\"ValueError: The string is not a valid integer: {ex}\")\n",
    "            return                    # Exit if conversion fails\n",
    "\n",
    "        try:\n",
    "            result = 100 / number      # Second attempt: Divide by the integer\n",
    "        except ZeroDivisionError as es:\n",
    "            print(f\"ZeroDivisionError: Cannot divide by zero: {es}\")\n",
    "        else:\n",
    "            print(f\"Result is: {result}\")\n",
    "        finally:\n",
    "            print(\"Inner finally block executed.\")\n",
    "\n",
    "    except Exception as ee:\n",
    "        print(f\"Unexpected exception: {ee}\")\n",
    "    finally:\n",
    "        print(\"Outer finally block executed.\")\n",
    "\n",
    "# Test cases\n",
    "nested_fun('a')    # Invalid integer string\n",
    "print()\n",
    "nested_fun('5')    # Valid division\n",
    "print()\n",
    "nested_fun('0')    # Division by zero\n",
    "        "
   ]
  },
  {
   "cell_type": "code",
   "execution_count": 25,
   "id": "a7ae5569",
   "metadata": {},
   "outputs": [
    {
     "name": "stdout",
     "output_type": "stream",
     "text": [
      "list out of range \n",
      "execution complete..\n",
      "12\n"
     ]
    }
   ],
   "source": [
    "## Write a function that takes a list and an index as input and returns the element at the given index. Use try, \n",
    "# except, and finally blocks to handle IndexError if the index is out of range and print an appropriate message.\n",
    "\n",
    "\n",
    "def list_inp():\n",
    "    try:\n",
    "        list = input([1,2,3,4,5])\n",
    "        if list == input:\n",
    "            print(f\"in range\")\n",
    "        else:\n",
    "            print(\"list out of range \")    \n",
    "        return list\n",
    "    except IndexError as ex:\n",
    "        print(f\" index out of range : {ex}\")\n",
    "    finally : \n",
    "        print(\"execution complete..\")\n",
    "\n",
    "print(list_inp())         \n"
   ]
  },
  {
   "cell_type": "code",
   "execution_count": 28,
   "id": "8f27ac7c",
   "metadata": {},
   "outputs": [
    {
     "name": "stdout",
     "output_type": "stream",
     "text": [
      " Not have such network : [Errno 2] No such file or directory: 'URL.txt'\n",
      "execution complete..\n",
      "None\n"
     ]
    }
   ],
   "source": [
    "## Write a function that attempts to open a URL and read its contents. Use try, except, and finally blocks to\n",
    "#  handle network-related errors and print an appropriate message.\n",
    "\n",
    "\n",
    "def network_rel():\n",
    "    try:\n",
    "        with open('URL.txt','r') as file:\n",
    "            contents = file.read()\n",
    "            print(contents)\n",
    "\n",
    "    except Exception as ex:\n",
    "        print(f\" Not have such network : {ex}\")\n",
    "\n",
    "    finally :\n",
    "        print(\"execution complete..\")\n",
    "\n",
    "print(network_rel())                   "
   ]
  },
  {
   "cell_type": "code",
   "execution_count": 4,
   "id": "e2cad511",
   "metadata": {},
   "outputs": [
    {
     "name": "stdout",
     "output_type": "stream",
     "text": [
      "execution complete..\n",
      "{'Name': 'Nitish', 'age': 20}\n",
      "The string is not valid : Expecting value: line 1 column 1 (char 0)\n",
      "execution complete..\n",
      "None\n"
     ]
    }
   ],
   "source": [
    "### Write a function that attempts to parse a JSON string. Use try, except, and finally blocks to handle \n",
    "# JSONDecodeError if the string is not a valid JSON and print an appropriate message.\n",
    "\n",
    "import json\n",
    "def parse_JSON(Json_string):\n",
    "    try:\n",
    "        data = json.loads(Json_string)\n",
    "        return data\n",
    "    except json.JSONDecodeError as ex:\n",
    "        print(f\"The string is not valid : {ex}\")\n",
    "        return None\n",
    "    finally :\n",
    "        print(\"execution complete..\")\n",
    "\n",
    "print(parse_JSON('{\"Name\" : \"Nitish\", \"age\" : 20}'))  \n",
    "print(parse_JSON('inavid'))          "
   ]
  },
  {
   "cell_type": "code",
   "execution_count": 1,
   "id": "c9dbd551",
   "metadata": {},
   "outputs": [
    {
     "name": "stdout",
     "output_type": "stream",
     "text": [
      "Error : Negative number found : -4\n",
      "execution complete..\n",
      "None\n"
     ]
    }
   ],
   "source": [
    "## Define a custom exception named `NegativeNumberError`. Write a function that raises this exception if a negative\n",
    "#  number is encountered in a list. Use try, except, and finally blocks to handle the custom exception and\n",
    "#  print an appropriate message.\n",
    "\n",
    "\n",
    "class NegativeNumberError(Exception):\n",
    "    pass\n",
    "def check_for_negatiive(lst):\n",
    "    try:\n",
    "        for num in lst:\n",
    "            if num < 0 :\n",
    "                raise NegativeNumberError(f\"Negative number found : {num}\")\n",
    "            \n",
    "    except NegativeNumberError as e:\n",
    "        print(f\"Error : {e}\")\n",
    "\n",
    "    finally :\n",
    "        print(\"execution complete..\")    \n",
    "\n",
    "print(check_for_negatiive([1,2,3,-4]))               \n",
    "\n",
    "\n",
    "\n",
    "    "
   ]
  },
  {
   "cell_type": "code",
   "execution_count": 3,
   "id": "34c94d91",
   "metadata": {},
   "outputs": [
    {
     "name": "stdout",
     "output_type": "stream",
     "text": [
      "Error : An Error Ocuured in risky_function \n",
      "Execution Complete..\n",
      "None\n"
     ]
    }
   ],
   "source": [
    "## Write a function that calls another function which may raise an exception. Use try, except, and finally blocks\n",
    "#  to handle the exception and print an appropriate message.\n",
    "\n",
    "def func_cal():\n",
    "    raise ValueError(\"An Error Ocuured in risky_function \")\n",
    "def safe_func():\n",
    "    try :\n",
    "        func_cal()\n",
    "\n",
    "    except ValueError as e:\n",
    "        print(f\"Error : {e}\")\n",
    "\n",
    "    finally :      \n",
    "        print(\"Execution Complete..\")\n",
    "\n",
    "print(safe_func())          \n",
    "\n",
    "\n"
   ]
  },
  {
   "cell_type": "code",
   "execution_count": 11,
   "id": "49bde391",
   "metadata": {},
   "outputs": [
    {
     "name": "stdout",
     "output_type": "stream",
     "text": [
      "Execution Complete...\n",
      "0.6666666666666666\n"
     ]
    }
   ],
   "source": [
    "## Define a class with a method that performs a division operation. Use try, except, and finally blocks within the\n",
    "#  method to handle division by zero and print an appropriate message.\n",
    "\n",
    "\n",
    "class Calculator:\n",
    "    def divide(self,a,b):\n",
    "        try:\n",
    "            result = a / b\n",
    "        except ZeroDivisionError as et:\n",
    "            print(f\"Error : {et}\")\n",
    "            result =  None\n",
    "\n",
    "        finally :\n",
    "            print(\"Execution Complete...\") \n",
    "        return result \n",
    "           \n",
    "clac = Calculator()\n",
    "print(clac.divide(2,3))      \n",
    " \n"
   ]
  },
  {
   "cell_type": "code",
   "execution_count": 2,
   "id": "4a673bbf",
   "metadata": {},
   "outputs": [
    {
     "ename": "TypeError",
     "evalue": "'function' object is not subscriptable",
     "output_type": "error",
     "traceback": [
      "\u001b[31m---------------------------------------------------------------------------\u001b[39m",
      "\u001b[31mTypeError\u001b[39m                                 Traceback (most recent call last)",
      "\u001b[36mCell\u001b[39m\u001b[36m \u001b[39m\u001b[32mIn[2]\u001b[39m\u001b[32m, line 17\u001b[39m\n\u001b[32m     14\u001b[39m         \u001b[38;5;28mprint\u001b[39m(\u001b[33m\"\u001b[39m\u001b[33mexecution complete\u001b[39m\u001b[33m\"\u001b[39m) \n\u001b[32m     15\u001b[39m     \u001b[38;5;28;01mreturn\u001b[39;00m integer    \n\u001b[32m---> \u001b[39m\u001b[32m17\u001b[39m \u001b[38;5;28mprint\u001b[39m(\u001b[43mlst_string\u001b[49m\u001b[43m[\u001b[49m\u001b[33;43m'\u001b[39;49m\u001b[33;43m1\u001b[39;49m\u001b[33;43m'\u001b[39;49m\u001b[43m,\u001b[49m\u001b[33;43m'\u001b[39;49m\u001b[33;43mtwo\u001b[39;49m\u001b[33;43m'\u001b[39;49m\u001b[43m]\u001b[49m)\n",
      "\u001b[31mTypeError\u001b[39m: 'function' object is not subscriptable"
     ]
    }
   ],
   "source": [
    "### Write a function that takes a list of strings and converts them to integers. Use try, except, and finally blocks\n",
    "#  to handle ValueError if a string cannot be converted and print an appropriate message.\n",
    "\n",
    "\n",
    "def lst_string(string_num):\n",
    "    integer = []\n",
    "    try :\n",
    "        number = int(string_num)\n",
    "        print(number)\n",
    "    except ValueError as e:\n",
    "        print(f\"Error : {e}\")\n",
    "\n",
    "    finally :\n",
    "        print(\"execution complete\") \n",
    "    return integer    \n",
    "\n",
    "print(lst_string['1','two'])"
   ]
  }
 ],
 "metadata": {
  "kernelspec": {
   "display_name": "Python 3",
   "language": "python",
   "name": "python3"
  },
  "language_info": {
   "codemirror_mode": {
    "name": "ipython",
    "version": 3
   },
   "file_extension": ".py",
   "mimetype": "text/x-python",
   "name": "python",
   "nbconvert_exporter": "python",
   "pygments_lexer": "ipython3",
   "version": "3.12.2"
  }
 },
 "nbformat": 4,
 "nbformat_minor": 5
}
