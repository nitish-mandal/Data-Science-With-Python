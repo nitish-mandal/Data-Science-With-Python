{
 "cells": [
  {
   "cell_type": "markdown",
   "id": "36f6f3d0",
   "metadata": {},
   "source": [
    "method overriding allows a child class to provide a specific implementation of a method that is already defined in its parent class "
   ]
  },
  {
   "cell_type": "code",
   "execution_count": 1,
   "id": "ff38dd6d",
   "metadata": {},
   "outputs": [
    {
     "name": "stdout",
     "output_type": "stream",
     "text": [
      "Woof\n",
      "Meow!\n",
      "Woof\n"
     ]
    }
   ],
   "source": [
    "## Base class \n",
    "class Animal:\n",
    "    def speak(self):\n",
    "        return \" sound of the animal \"\n",
    "\n",
    "### Derived class 1\n",
    "class Dog(Animal):\n",
    "    def speak(self):\n",
    "        return \"Woof\"    \n",
    "\n",
    "## Derived class 2\n",
    "class Cat(Animal):\n",
    "    def speak(self):\n",
    "        return \"Meow!\"\n",
    "    \n",
    "## Function that demonstrate polymorphism..\n",
    "def animal_speak(animal):\n",
    "    print(animal.speak())    \n",
    "\n",
    "dog = Dog()\n",
    "cat = Cat()\n",
    "print(dog.speak())\n",
    "print(cat.speak())   \n",
    "animal_speak(dog)                 \n"
   ]
  },
  {
   "cell_type": "code",
   "execution_count": null,
   "id": "c8eeacfc",
   "metadata": {},
   "outputs": [
    {
     "name": "stdout",
     "output_type": "stream",
     "text": [
      "the area is 20\n",
      "the area is 28.259999999999998\n"
     ]
    }
   ],
   "source": [
    "### polymorphism with functions and methods...\n",
    "## base class \n",
    "class Shape:\n",
    "    def area(self):\n",
    "        return \"The area of the figure \"\n",
    "    \n",
    "## Derived class 1 \n",
    "class Rectangle(Shape):\n",
    "    def __init__(self,width,height):\n",
    "        self.width = width\n",
    "        self.height = height\n",
    "     ## area of rectangle\n",
    "    def area(self):\n",
    "        return self.width * self.height\n",
    "    \n",
    "### Derived Class 2\n",
    "## constructor\n",
    "class Circle(Shape):\n",
    "    def __init__(self,radius):\n",
    "        self.radius = radius\n",
    "\n",
    "    def area(self):\n",
    "        return 3.14*self.radius * self.radius\n",
    "        \n",
    "\n",
    "    ### Function That Demonstrate polymorphism..\n",
    "\n",
    "def print_area(shape):\n",
    "        print(f\"the area is {shape.area()}\")\n",
    "\n",
    "rectangle = Rectangle(4,5)\n",
    "circle = Circle(3)\n",
    "\n",
    "print_area(rectangle)\n",
    "print_area(circle)\n"
   ]
  },
  {
   "cell_type": "markdown",
   "id": "e15ed23f",
   "metadata": {},
   "source": [
    "#### Polymorphism with Abstract Classes.."
   ]
  },
  {
   "cell_type": "markdown",
   "id": "29bb33e4",
   "metadata": {},
   "source": [
    "Abstract Base classes(ABCs) are used to define commmon methods for a group of related objects. They can enforce that derived classes implement particular methods, promoting consistency across different implementations.. \n",
    "\n"
   ]
  },
  {
   "cell_type": "code",
   "execution_count": 6,
   "id": "e90d71e3",
   "metadata": {},
   "outputs": [
    {
     "name": "stdout",
     "output_type": "stream",
     "text": [
      "Car engine started.\n"
     ]
    }
   ],
   "source": [
    "from abc import ABC , abstractmethod \n",
    "\n",
    "## Define an abstract class \n",
    "class Vehicle (ABC):\n",
    "    @abstractmethod\n",
    "    def start_engine(self):\n",
    "        pass \n",
    "\n",
    "## Derived Class 1\n",
    "class Car(Vehicle):\n",
    "    def start_engine(self):\n",
    "        return \"Car engine started.\" \n",
    "\n",
    "### Derived Class 2\n",
    "class Motorcycle(Vehicle):\n",
    "    def start_engine(self):\n",
    "        return \"Motorcycle engine is started \" \n",
    "    \n",
    "### function that demonstrate polymorphism..\n",
    "def start_vehicle(vehicle):\n",
    "    print(vehicle.start_engine())     \n",
    "\n",
    "\n",
    "### create objects of car and motorcycles..\n",
    "\n",
    "car = Car()\n",
    "motorcycle = Motorcycle()\n",
    "\n",
    "start_vehicle(car)"
   ]
  }
 ],
 "metadata": {
  "kernelspec": {
   "display_name": "Python 3",
   "language": "python",
   "name": "python3"
  },
  "language_info": {
   "codemirror_mode": {
    "name": "ipython",
    "version": 3
   },
   "file_extension": ".py",
   "mimetype": "text/x-python",
   "name": "python",
   "nbconvert_exporter": "python",
   "pygments_lexer": "ipython3",
   "version": "3.12.2"
  }
 },
 "nbformat": 4,
 "nbformat_minor": 5
}
