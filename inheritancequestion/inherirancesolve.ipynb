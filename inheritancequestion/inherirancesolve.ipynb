{
 "cells": [
  {
   "cell_type": "markdown",
   "id": "d5948b16",
   "metadata": {},
   "source": [
    "# Module: Inheritance Assignments\n",
    "## Lesson: Single and Multiple Inheritance\n",
    "### Assignment 1: Single Inheritance Basic\n",
    "\n",
    "Create a base class named `Animal` with attributes `name` and `species`. Create a derived class named `Dog` that inherits from `Animal` and adds an attribute `breed`. Create an object of the `Dog` class and print its attributes.\n",
    "\n",
    "### Assignment 2: Method Overriding in Single Inheritance\n",
    "\n",
    "In the `Dog` class, override the `__str__` method to return a string representation of the object. Create an object of the class and print it.\n",
    "\n",
    "### Assignment 3: Single Inheritance with Additional Methods\n",
    "\n",
    "In the `Dog` class, add a method named `bark` that prints a barking sound. Create an object of the class and call the method.\n",
    "\n",
    "### Assignment 4: Multiple Inheritance Basic\n",
    "\n",
    "Create a base class named `Walker` with a method `walk` that prints a walking message. Create another base class named `Runner` with a method `run` that prints a running message. Create a derived class named `Athlete` that inherits from both `Walker` and `Runner`. Create an object of the `Athlete` class and call both methods.\n",
    "\n",
    "### Assignment 5: Method Resolution Order (MRO) in Multiple Inheritance\n",
    "\n",
    "In the `Athlete` class, override the `walk` method to print a different message. Create an object of the class and call the `walk` method. Use the `super()` function to call the `walk` method of the `Walker` class.\n",
    "\n",
    "### Assignment 6: Multiple Inheritance with Additional Attributes\n",
    "\n",
    "In the `Athlete` class, add an attribute `training_hours` and a method `train` that prints the training hours. Create an object of the class and call the method.\n",
    "\n",
    "### Assignment 7: Diamond Problem in Multiple Inheritance\n",
    "\n",
    "Create a class named `A` with a method `show` that prints a message. Create two derived classes `B` and `C` that inherit from `A` and override the `show` method. Create a class `D` that inherits from both `B` and `C`. Create an object of the `D` class and call the `show` method. Observe the method resolution order.\n",
    "\n",
    "### Assignment 8: Using `super()` in Single Inheritance\n",
    "\n",
    "Create a base class named `Shape` with an attribute `color`. Create a derived class named `Circle` that inherits from `Shape` and adds an attribute `radius`. Use the `super()` function to initialize the attributes. Create an object of the `Circle` class and print its attributes.\n",
    "\n",
    "### Assignment 9: Using `super()` in Multiple Inheritance\n",
    "\n",
    "Create a class named `Person` with an attribute `name`. Create a class named `Employee` with an attribute `employee_id`. Create a derived class `Manager` that inherits from both `Person` and `Employee`. Use the `super()` function to initialize the attributes. Create an object of the `Manager` class and print its attributes.\n",
    "\n",
    "### Assignment 10: Method Overriding and `super()`\n",
    "\n",
    "Create a class named `Vehicle` with a method `start` that prints a starting message. Create a derived class `Car` that overrides the `start` method to print a different message. Use the `super()` function to call the `start` method of the `Vehicle` class. Create an object of the `Car` class and call the `start` method.\n",
    "\n",
    "### Assignment 11: Multiple Inheritance with Different Methods\n",
    "\n",
    "Create a class named `Flyer` with a method `fly` that prints a flying message. Create a class named `Swimmer` with a method `swim` that prints a swimming message. Create a derived class `Superhero` that inherits from both `Flyer` and `Swimmer`. Create an object of the `Superhero` class and call both methods.\n",
    "\n",
    "### Assignment 12: Complex Multiple Inheritance\n",
    "\n",
    "Create a class named `Base1` with an attribute `a`. Create a class named `Base2` with an attribute `b`. Create a class named `Derived` that inherits from both `Base1` and `Base2` and adds an attribute `c`. Initialize all attributes using the `super()` function. Create an object of the `Derived` class and print its attributes.\n",
    "\n",
    "### Assignment 13: Checking Instance Types with Inheritance\n",
    "\n",
    "Create a base class named `Animal` and a derived class named `Cat`. Create objects of both classes and use the `isinstance` function to check the instance types.\n",
    "\n",
    "### Assignment 14: Polymorphism with Inheritance\n",
    "\n",
    "Create a base class named `Bird` with a method `speak`. Create two derived classes `Parrot` and `Penguin` that override the `speak` method. Create a list of `Bird` objects and call the `speak` method on each object to demonstrate polymorphism.\n",
    "\n",
    "### Assignment 15: Combining Single and Multiple Inheritance\n",
    "\n",
    "Create a base class named `Device` with an attribute `brand`. Create a derived class `Phone` that inherits from `Device` and adds an attribute `model`. Create another base class `Camera` with an attribute `resolution`. Create a derived class `Smartphone` that inherits from both `Phone` and `Camera`. Create an object of the `Smartphone` class and print its attributes."
   ]
  },
  {
   "cell_type": "code",
   "execution_count": null,
   "id": "a0a3aad3",
   "metadata": {},
   "outputs": [
    {
     "name": "stdout",
     "output_type": "stream",
     "text": [
      "Tommy Cannine Bull Dog\n"
     ]
    }
   ],
   "source": [
    "\n",
    "## Create a base class named `Animal` with attributes `name` and `species`. Create a derived\n",
    "#  class named `Dog` that inherits from `Animal` and adds an attribute `breed`. Create an object\n",
    "#  of the `Dog` class and print its attributes.\n",
    "\n",
    "class Animal:\n",
    "    def __init__(self,name,species):\n",
    "        self.name = name\n",
    "        self.species = species\n",
    "\n",
    "class Dog(Animal):\n",
    "    def __init__(self,name,species,breed):\n",
    "        super().__init__(name,species)\n",
    "        self.breed = breed\n",
    "       \n",
    "\n",
    "dog = Dog('Tommy','Cannine','Bull Dog') \n",
    "print(dog.name,dog.species,dog.breed)               \n",
    "\n"
   ]
  },
  {
   "cell_type": "code",
   "execution_count": 10,
   "id": "8d7ac196",
   "metadata": {},
   "outputs": [
    {
     "name": "stdout",
     "output_type": "stream",
     "text": [
      "Dog(Name : kutta, species : germa shepherd, breed: cannine)\n"
     ]
    }
   ],
   "source": [
    "## In the `Dog` class, override the `__str__` method to return a string representation of the object. Create an object\n",
    "#  of the class and print it.\n",
    "\n",
    "class Dog(Animal):\n",
    "    def __init__(self,name,species,breed):\n",
    "        super().__init__(name,species)\n",
    "        self.breed = breed\n",
    "\n",
    "    def __str__(self):\n",
    "        return f\"Dog(Name : {self.name}, species : {self.species}, breed: {self.breed})\"\n",
    "        \n",
    "dog = Dog('kutta','germa shepherd','cannine')\n",
    "print(dog)    \n"
   ]
  },
  {
   "cell_type": "code",
   "execution_count": null,
   "id": "145ac3f1",
   "metadata": {},
   "outputs": [
    {
     "data": {
      "text/plain": [
       "' the dog is barking '"
      ]
     },
     "execution_count": 11,
     "metadata": {},
     "output_type": "execute_result"
    }
   ],
   "source": [
    "## In the `Dog` class, add a method named `bark` that prints a barking sound. Create an object of the class and\n",
    "#  call the method.\n",
    "\n",
    "\n",
    "class Dog(Animal):\n",
    "    def __init__(self,name,species,breed):\n",
    "        super().__init__(name,species)\n",
    "        self.breed = breed\n",
    "    \n",
    "    def bark(self):\n",
    "        return f\" the dog is barking \"\n",
    "\n",
    "dog = Dog('kutta','germa shepherd','cannine')\n",
    "dog.bark()"
   ]
  },
  {
   "cell_type": "code",
   "execution_count": 18,
   "id": "a1d07949",
   "metadata": {},
   "outputs": [
    {
     "name": "stdout",
     "output_type": "stream",
     "text": [
      "the man is walking\n",
      "the man is running\n"
     ]
    }
   ],
   "source": [
    "## Create a base class named `Walker` with a method `walk` that prints a walking message. Create another base class\n",
    "#  named `Runner` with a method `run` that prints a running message. Create a derived class named `Athlete` that\n",
    "#  inherits from both `Walker` and `Runner`. Create an object of the `Athlete` class and call both methods.\n",
    "\n",
    "\n",
    "class Walker:\n",
    "    def walk(self):\n",
    "        print(\"the man is walking\")\n",
    "\n",
    "class Runner:\n",
    "    def run(self):\n",
    "        print(\"the man is running\")\n",
    "\n",
    "class Athlete(Walker, Runner):\n",
    "    pass\n",
    "                \n",
    "athlete = Athlete()\n",
    "athlete.walk()\n",
    "athlete.run()"
   ]
  },
  {
   "cell_type": "code",
   "execution_count": 19,
   "id": "3d814504",
   "metadata": {},
   "outputs": [
    {
     "name": "stdout",
     "output_type": "stream",
     "text": [
      "this man walk very fast\n",
      "the man is walking\n"
     ]
    }
   ],
   "source": [
    "##In the `Athlete` class, override the `walk` method to print a different message. Create an object of the class\n",
    "#  and call the `walk` method. Use the `super()` function to call the `walk` method of the `Walker` class.\n",
    "\n",
    "\n",
    "class Walker:\n",
    "    def walk(self):\n",
    "        print(\"the man is walking\")\n",
    "\n",
    "class Runner:\n",
    "    def run(self):\n",
    "        print(\"the man is running\")\n",
    "\n",
    "class Athlete(Walker, Runner):\n",
    "    def walk(self):\n",
    "        print(\"this man walk very fast\")\n",
    "        super().walk()\n",
    "\n",
    "athlete = Athlete()\n",
    "athlete.walk()        \n",
    "    \n"
   ]
  },
  {
   "cell_type": "code",
   "execution_count": 22,
   "id": "b50714f9",
   "metadata": {},
   "outputs": [
    {
     "name": "stdout",
     "output_type": "stream",
     "text": [
      "Training for 5 hours.\n"
     ]
    }
   ],
   "source": [
    "## In the `Athlete` class, add an attribute `training_hours` and a method `train` that prints the training hours.\n",
    "#  Create an object of the class and call the method.\n",
    "\n",
    "\n",
    "\n",
    "class Walker:\n",
    "    def walk(self):\n",
    "        print(\"the man is walking\")\n",
    "\n",
    "class Runner:\n",
    "    def run(self):\n",
    "        print(\"the man is running\")\n",
    "\n",
    "class Athlete(Walker, Runner):\n",
    "    def __init__(self, training_hours):\n",
    "        self.training_hours = training_hours\n",
    "\n",
    "    def train(self):\n",
    "        print(f\"Training for {self.training_hours} hours.\")\n",
    "\n",
    "# Test\n",
    "athlete = Athlete(5)\n",
    "athlete.train()\n"
   ]
  },
  {
   "cell_type": "code",
   "execution_count": 1,
   "id": "d83be162",
   "metadata": {},
   "outputs": [
    {
     "name": "stdout",
     "output_type": "stream",
     "text": [
      "this is just a message inherit from class A\n"
     ]
    }
   ],
   "source": [
    "## Create a class named `A` with a method `show` that prints a message. Create two derived classes `B` and `C` that \n",
    "# inherit from `A` and override the `show` method. Create a class `D` that inherits from both `B` and `C`. Create an \n",
    "# object of the `D` class and call the `show` method. Observe the method resolution order.\n",
    "\n",
    "class A:\n",
    "    def show(self):\n",
    "        print(\"this is just a message\")\n",
    "\n",
    "class B(A):\n",
    "    def show(self):\n",
    "        print(\"this is just a message inherit from class A\")\n",
    "\n",
    "class C(A):\n",
    "    def show(self):\n",
    "        print(\"this is also a message which is inherit from class A\")\n",
    "\n",
    "class D(B,C):\n",
    "    pass\n",
    "\n",
    "d = D()\n",
    "d.show()\n",
    "\n",
    "\n"
   ]
  },
  {
   "cell_type": "code",
   "execution_count": null,
   "id": "e8fb2ecc",
   "metadata": {},
   "outputs": [
    {
     "name": "stdout",
     "output_type": "stream",
     "text": [
      "Red 5\n"
     ]
    }
   ],
   "source": [
    "## Create a base class named `Shape` with an attribute `color`. Create a derived class named `Circle` that inherits\n",
    "#  from `Shape` and adds an attribute `radius`. Use the `super()` function to initialize the attributes. Create an \n",
    "# object of the `Circle` class and print its attributes.\n",
    "\n",
    "class Shape:\n",
    "    def __init__(self, color):\n",
    "        self.color = color\n",
    "\n",
    "class Circle(Shape):\n",
    "    def __init__(self, color, radius):\n",
    "        super().__init__(color)\n",
    "        self.radius = radius\n",
    "\n",
    "circle = Circle('Red', 5)\n",
    "print(circle.color, circle.radius)"
   ]
  },
  {
   "cell_type": "code",
   "execution_count": 9,
   "id": "91eec3dc",
   "metadata": {},
   "outputs": [
    {
     "name": "stdout",
     "output_type": "stream",
     "text": [
      "Nitish M12345\n"
     ]
    }
   ],
   "source": [
    "## Create a class named `Person` with an attribute `name`. Create a class named `Employee` with an attribute\n",
    "#  `employee_id`. Create a derived class `Manager` that inherits from both `Person` and `Employee`. Use the `super()`\n",
    "#  function to initialize the attributes. Create an object of the `Manager` class and print its attributes.\n",
    "\n",
    "\n",
    "class Person:\n",
    "    def __init__(self,name):\n",
    "        self.name = name\n",
    "\n",
    "class Employee :\n",
    "    def __init__(self,employee_id):\n",
    "        self.employee_id = employee_id      \n",
    "\n",
    "class Manager(Person,Employee) :\n",
    "    def __init__(self,name,employee_id):\n",
    "        super().__init__(name)\n",
    "        Employee.__init__(self, employee_id)   \n",
    "\n",
    "manager  = Manager('Nitish','M12345')\n",
    "print(manager.name,manager.employee_id)         \n"
   ]
  },
  {
   "cell_type": "code",
   "execution_count": 15,
   "id": "c7c1e0ec",
   "metadata": {},
   "outputs": [
    {
     "name": "stdout",
     "output_type": "stream",
     "text": [
      "The Vehicle have V8 Engine\n",
      "The Vehicle  started \n"
     ]
    }
   ],
   "source": [
    "## Create a class named `Vehicle` with a method `start` that prints a starting message. Create a derived class `Car`\n",
    "#  that overrides the `start` method to print a different message. Use the `super()` function to call the `start`\n",
    "#  method of the `Vehicle` class. Create an object of the `Car` class and call the `start` method.\n",
    "\n",
    "class Vehicle:\n",
    "    def start(self):\n",
    "        print(\"The Vehicle  started \")\n",
    "\n",
    "class Car(Vehicle):\n",
    "    def start(self):\n",
    "        print(\"The Vehicle have V8 Engine\")\n",
    "        super().start()\n",
    "\n",
    "car = Car()\n",
    "car.start()               \n",
    "\n"
   ]
  },
  {
   "cell_type": "code",
   "execution_count": null,
   "id": "5e3ca270",
   "metadata": {},
   "outputs": [],
   "source": [
    "## Create a class named `Flyer` with a method `fly` that prints a flying message. Create a class named `Swimmer`\n",
    "#  with a method `swim` that prints a swimming message. Create a derived class `Superhero` that inherits from both \n",
    "# `Flyer` and `Swimmer`. Create an object of the `Superhero` class and call both methods.\n",
    "\n",
    "    "
   ]
  }
 ],
 "metadata": {
  "kernelspec": {
   "display_name": "Python 3",
   "language": "python",
   "name": "python3"
  },
  "language_info": {
   "codemirror_mode": {
    "name": "ipython",
    "version": 3
   },
   "file_extension": ".py",
   "mimetype": "text/x-python",
   "name": "python",
   "nbconvert_exporter": "python",
   "pygments_lexer": "ipython3",
   "version": "3.12.2"
  }
 },
 "nbformat": 4,
 "nbformat_minor": 5
}
