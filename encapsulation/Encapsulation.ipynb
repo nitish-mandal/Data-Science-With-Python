{
 "cells": [
  {
   "cell_type": "code",
   "execution_count": 3,
   "id": "1d32dd1b",
   "metadata": {},
   "outputs": [
    {
     "data": {
      "text/plain": [
       "'Nitish'"
      ]
     },
     "execution_count": 3,
     "metadata": {},
     "output_type": "execute_result"
    }
   ],
   "source": [
    "### Encapsulation with getter and Setter Methods \n",
    "### Public, Protected, Private variables or access modifiers\n",
    "\n",
    "class Person:\n",
    "    def __init__(self, name,age):\n",
    "        self.name = name      ## public variables\n",
    "        self.age = age        ## public variables\n",
    "\n",
    "def get_name(person):\n",
    "    return person.name\n",
    "\n",
    "person = Person(\"Nitish\",20)\n",
    "get_name(person)     "
   ]
  },
  {
   "cell_type": "code",
   "execution_count": 4,
   "id": "aa41b261",
   "metadata": {},
   "outputs": [
    {
     "data": {
      "text/plain": [
       "['__class__',\n",
       " '__delattr__',\n",
       " '__dict__',\n",
       " '__dir__',\n",
       " '__doc__',\n",
       " '__eq__',\n",
       " '__format__',\n",
       " '__ge__',\n",
       " '__getattribute__',\n",
       " '__getstate__',\n",
       " '__gt__',\n",
       " '__hash__',\n",
       " '__init__',\n",
       " '__init_subclass__',\n",
       " '__le__',\n",
       " '__lt__',\n",
       " '__module__',\n",
       " '__ne__',\n",
       " '__new__',\n",
       " '__reduce__',\n",
       " '__reduce_ex__',\n",
       " '__repr__',\n",
       " '__setattr__',\n",
       " '__sizeof__',\n",
       " '__str__',\n",
       " '__subclasshook__',\n",
       " '__weakref__',\n",
       " 'age',\n",
       " 'name']"
      ]
     },
     "execution_count": 4,
     "metadata": {},
     "output_type": "execute_result"
    }
   ],
   "source": [
    "dir(person)"
   ]
  },
  {
   "cell_type": "code",
   "execution_count": 1,
   "id": "c672b26f",
   "metadata": {},
   "outputs": [
    {
     "ename": "AttributeError",
     "evalue": "'Person' object has no attribute '__name'",
     "output_type": "error",
     "traceback": [
      "\u001b[31m---------------------------------------------------------------------------\u001b[39m",
      "\u001b[31mAttributeError\u001b[39m                            Traceback (most recent call last)",
      "\u001b[36mCell\u001b[39m\u001b[36m \u001b[39m\u001b[32mIn[1]\u001b[39m\u001b[32m, line 11\u001b[39m\n\u001b[32m      8\u001b[39m     \u001b[38;5;28;01mreturn\u001b[39;00m person.__name\n\u001b[32m     10\u001b[39m person = Person(\u001b[33m\"\u001b[39m\u001b[33mNitish\u001b[39m\u001b[33m\"\u001b[39m,\u001b[32m20\u001b[39m,\u001b[33m\"\u001b[39m\u001b[33mMale\u001b[39m\u001b[33m\"\u001b[39m)\n\u001b[32m---> \u001b[39m\u001b[32m11\u001b[39m \u001b[43mget_name\u001b[49m\u001b[43m(\u001b[49m\u001b[43mperson\u001b[49m\u001b[43m)\u001b[49m        \n",
      "\u001b[36mCell\u001b[39m\u001b[36m \u001b[39m\u001b[32mIn[1]\u001b[39m\u001b[32m, line 8\u001b[39m, in \u001b[36mget_name\u001b[39m\u001b[34m(person)\u001b[39m\n\u001b[32m      7\u001b[39m \u001b[38;5;28;01mdef\u001b[39;00m\u001b[38;5;250m \u001b[39m\u001b[34mget_name\u001b[39m(person):\n\u001b[32m----> \u001b[39m\u001b[32m8\u001b[39m     \u001b[38;5;28;01mreturn\u001b[39;00m \u001b[43mperson\u001b[49m\u001b[43m.\u001b[49m\u001b[43m__name\u001b[49m\n",
      "\u001b[31mAttributeError\u001b[39m: 'Person' object has no attribute '__name'"
     ]
    }
   ],
   "source": [
    "class Person:\n",
    "    def __init__(self,name,age,gender):\n",
    "        self.__name=name       ## private variables\n",
    "        self.__age= age        ## private variables\n",
    "        self.gender = gender\n",
    "\n",
    "def get_name(person):\n",
    "    return person.__name\n",
    "\n",
    "person = Person(\"Nitish\",20,\"Male\")\n",
    "get_name(person)        "
   ]
  },
  {
   "cell_type": "code",
   "execution_count": 1,
   "id": "21d8aeea",
   "metadata": {},
   "outputs": [
    {
     "ename": "NameError",
     "evalue": "name 'Person' is not defined",
     "output_type": "error",
     "traceback": [
      "\u001b[31m---------------------------------------------------------------------------\u001b[39m",
      "\u001b[31mNameError\u001b[39m                                 Traceback (most recent call last)",
      "\u001b[36mCell\u001b[39m\u001b[36m \u001b[39m\u001b[32mIn[1]\u001b[39m\u001b[32m, line 1\u001b[39m\n\u001b[32m----> \u001b[39m\u001b[32m1\u001b[39m person = \u001b[43mPerson\u001b[49m(\u001b[33m\"\u001b[39m\u001b[33mnitish\u001b[39m\u001b[33m\"\u001b[39m,\u001b[32m20\u001b[39m,\u001b[33m\"\u001b[39m\u001b[33mMale\u001b[39m\u001b[33m\"\u001b[39m)\n\u001b[32m      2\u001b[39m \u001b[38;5;28mdir\u001b[39m(person)\n",
      "\u001b[31mNameError\u001b[39m: name 'Person' is not defined"
     ]
    }
   ],
   "source": [
    "person = Person(\"nitish\",20,\"Male\")\n",
    "dir(person)"
   ]
  },
  {
   "cell_type": "code",
   "execution_count": 13,
   "id": "0311057b",
   "metadata": {},
   "outputs": [
    {
     "name": "stdout",
     "output_type": "stream",
     "text": [
      "Nitish\n"
     ]
    }
   ],
   "source": [
    "## in protected vaiables\n",
    "\n",
    "class Person:\n",
    "    def __init__(self,name,age,gender):\n",
    "        self._name=name       ## protected variables\n",
    "        self._age= age        ## protected variables\n",
    "        self.gender = gender\n",
    "\n",
    "class Employee(Person):\n",
    "    def __init__(self,name,age,gender):\n",
    "        super().__init__(name,age,gender)\n",
    "\n",
    "employee = Employee(\"Nitish\",20,\"male\")  \n",
    "print(employee._name)            "
   ]
  },
  {
   "cell_type": "code",
   "execution_count": null,
   "id": "1374aec4",
   "metadata": {},
   "outputs": [
    {
     "name": "stdout",
     "output_type": "stream",
     "text": [
      "Nitish\n",
      "20\n",
      "25\n",
      "Age cannot be negative.\n"
     ]
    }
   ],
   "source": [
    "## Encapsulation With Getter And Setter\n",
    "       \n",
    "class Person:\n",
    "    def __init__(self, name, age):\n",
    "        self.__name = name    # private variable\n",
    "        self.__age = age      # private variable\n",
    "\n",
    "    # Getter for name\n",
    "    def get_name(self):\n",
    "        return self.__name    ##Yeh method private variable __name ko read karne ke liye use hota hai.\n",
    "##(Outside world ke liye safe access)\n",
    "    \n",
    "    # Setter for name\n",
    "    def set_name(self, name):\n",
    "        self.__name = name    ## Yeh method __name ko update (change) karne ke liye use hota hai.\n",
    "\n",
    "    # Getter for age\n",
    "    def get_age(self):\n",
    "        return self.__age    \n",
    "    \n",
    "    # Setter for age \n",
    "    def set_age(self, age):\n",
    "        if age > 0:\n",
    "            self.__age = age\n",
    "        else:\n",
    "            print(\"Age cannot be negative.\")   \n",
    "\n",
    "# --- Object creation (outside class) ---\n",
    "person = Person(\"Nitish\", 20)\n",
    "\n",
    "# Access and modify private variables using getter and setter\n",
    "print(person.get_name())   # Output: Nitish\n",
    "print(person.get_age())    # Output: 20\n",
    "\n",
    "person.set_age(25)\n",
    "print(person.get_age())    # Output: 25\n",
    "\n",
    "person.set_age(-5)         # Output: Age cannot be negative.\n"
   ]
  }
 ],
 "metadata": {
  "kernelspec": {
   "display_name": "Python 3",
   "language": "python",
   "name": "python3"
  },
  "language_info": {
   "codemirror_mode": {
    "name": "ipython",
    "version": 3
   },
   "file_extension": ".py",
   "mimetype": "text/x-python",
   "name": "python",
   "nbconvert_exporter": "python",
   "pygments_lexer": "ipython3",
   "version": "3.12.2"
  }
 },
 "nbformat": 4,
 "nbformat_minor": 5
}
