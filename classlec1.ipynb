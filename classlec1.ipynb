{
 "cells": [
  {
   "cell_type": "code",
   "execution_count": 1,
   "id": "57d77d71",
   "metadata": {},
   "outputs": [
    {
     "name": "stdout",
     "output_type": "stream",
     "text": [
      "<class 'list'>\n",
      "n\n"
     ]
    }
   ],
   "source": [
    "stri = [\"n\",\"i\",\"t\",\"i\",\"n\"]\n",
    "print(type(stri))\n",
    "print(stri[-1])"
   ]
  },
  {
   "cell_type": "code",
   "execution_count": 2,
   "id": "6edc6ea0",
   "metadata": {},
   "outputs": [
    {
     "name": "stdout",
     "output_type": "stream",
     "text": [
      "True\n"
     ]
    }
   ],
   "source": [
    "def is_palindrome(s):\n",
    "    s=s.lower().replace(\"\",\"\")\n",
    "    return s==s[::-1]\n",
    "print(is_palindrome(\"madam\"))"
   ]
  },
  {
   "cell_type": "code",
   "execution_count": 3,
   "id": "15f70eac",
   "metadata": {},
   "outputs": [],
   "source": [
    "class car:\n",
    "    pass"
   ]
  },
  {
   "cell_type": "code",
   "execution_count": 4,
   "id": "92f6a4c1",
   "metadata": {},
   "outputs": [
    {
     "name": "stdout",
     "output_type": "stream",
     "text": [
      "white\n",
      "$5000\n"
     ]
    }
   ],
   "source": [
    "\n",
    "c1 = car()\n",
    "c2 = car()\n",
    "c1.colour = \"white\"\n",
    "c2.price = \"$5000\"\n",
    "print(c1.colour)\n",
    "print(c2.price)"
   ]
  },
  {
   "cell_type": "code",
   "execution_count": 5,
   "id": "9caca076",
   "metadata": {},
   "outputs": [
    {
     "name": "stdout",
     "output_type": "stream",
     "text": [
      "['__class__', '__delattr__', '__dict__', '__dir__', '__doc__', '__eq__', '__format__', '__ge__', '__getattribute__', '__getstate__', '__gt__', '__hash__', '__init__', '__init_subclass__', '__le__', '__lt__', '__module__', '__ne__', '__new__', '__reduce__', '__reduce_ex__', '__repr__', '__setattr__', '__sizeof__', '__str__', '__subclasshook__', '__weakref__', 'colour']\n"
     ]
    }
   ],
   "source": [
    "print(dir(c1))"
   ]
  },
  {
   "cell_type": "code",
   "execution_count": 6,
   "id": "f2bfc826",
   "metadata": {},
   "outputs": [],
   "source": [
    "class car:\n",
    "    def __init__(self,Color,price):  ### __init__ means constructor\n",
    "                 self.C = Color\n",
    "                 self.p = price"
   ]
  },
  {
   "cell_type": "code",
   "execution_count": 7,
   "id": "fff84d25",
   "metadata": {},
   "outputs": [
    {
     "name": "stdout",
     "output_type": "stream",
     "text": [
      "5000\n"
     ]
    }
   ],
   "source": [
    "car1 = car(\"red\",5000)\n",
    "print(car1.p) "
   ]
  },
  {
   "cell_type": "code",
   "execution_count": 8,
   "id": "bb203eb5",
   "metadata": {},
   "outputs": [
    {
     "name": "stdout",
     "output_type": "stream",
     "text": [
      "black\n",
      "Car started\n",
      "['Start', '__class__', '__delattr__', '__dict__', '__dir__', '__doc__', '__eq__', '__format__', '__ge__', '__getattribute__', '__getstate__', '__gt__', '__hash__', '__init__', '__init_subclass__', '__le__', '__lt__', '__module__', '__ne__', '__new__', '__reduce__', '__reduce_ex__', '__repr__', '__setattr__', '__sizeof__', '__str__', '__subclasshook__', '__weakref__', 'color', 'enginetype', 'model', 'price']\n",
      "['Start', '__class__', '__delattr__', '__dict__', '__dir__', '__doc__', '__eq__', '__format__', '__ge__', '__getattribute__', '__getstate__', '__gt__', '__hash__', '__init__', '__init_subclass__', '__le__', '__lt__', '__module__', '__ne__', '__new__', '__reduce__', '__reduce_ex__', '__repr__', '__setattr__', '__sizeof__', '__str__', '__subclasshook__', '__weakref__']\n"
     ]
    }
   ],
   "source": [
    "class Car:\n",
    "    def __init__(self, color, price):\n",
    "        self.color = color\n",
    "        self.price = price\n",
    "    \n",
    "    def Start(self):\n",
    "        print(\"Car started\")\n",
    "\n",
    "class Alto(Car):\n",
    "    def __init__(self, color, price, model, enginetype):\n",
    "        super().__init__(color, price)\n",
    "        self.model = model\n",
    "        self.enginetype = enginetype\n",
    "\n",
    "Alto800 = Alto(\"black\", 500, 800, \"petrol\")\n",
    "\n",
    "print(Alto800.color)   # ✅ print color\n",
    "Alto800.Start()        # ✅ call method from parent\n",
    "print(dir(Alto800))    # ✅ see all attributes/methods of object\n",
    "print(dir(Car)) "
   ]
  }
 ],
 "metadata": {
  "kernelspec": {
   "display_name": "Python 3",
   "language": "python",
   "name": "python3"
  },
  "language_info": {
   "codemirror_mode": {
    "name": "ipython",
    "version": 3
   },
   "file_extension": ".py",
   "mimetype": "text/x-python",
   "name": "python",
   "nbconvert_exporter": "python",
   "pygments_lexer": "ipython3",
   "version": "3.12.2"
  }
 },
 "nbformat": 4,
 "nbformat_minor": 5
}
