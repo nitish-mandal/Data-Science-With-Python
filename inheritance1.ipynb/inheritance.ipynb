{
 "cells": [
  {
   "cell_type": "code",
   "execution_count": null,
   "id": "b608f3e9",
   "metadata": {},
   "outputs": [
    {
     "name": "stdout",
     "output_type": "stream",
     "text": [
      "The person will drive the petrol car\n"
     ]
    }
   ],
   "source": [
    "## Inheritance( Single inheritance)\n",
    "## parent class\n",
    "\n",
    "class Car : \n",
    "    def __init__(self,windows,doors,enginetype):\n",
    "        self.windows = windows\n",
    "        self.doors = doors\n",
    "        self.enginetype = enginetype\n",
    "\n",
    "    def drive(self):\n",
    "        print(f\"The person will drive the {self.enginetype} car\")    \n",
    "\n",
    "car1 = Car(4,4,\"petrol\")        \n",
    "car1.drive()"
   ]
  },
  {
   "cell_type": "code",
   "execution_count": 2,
   "id": "5f1dc858",
   "metadata": {},
   "outputs": [
    {
     "name": "stdout",
     "output_type": "stream",
     "text": [
      " Tesla support self driving : True\n"
     ]
    }
   ],
   "source": [
    "## inherit atributes from another class..\n",
    "\n",
    "class Tesla(Car):\n",
    "    def __init__(self,windows,doors,enginetype,is_selfdriving):\n",
    "        super().__init__(windows,doors,enginetype)\n",
    "        self.is_selfdriving = is_selfdriving\n",
    "\n",
    "    def selfdriving(self):\n",
    "        print(f\" Tesla support self driving : {self.is_selfdriving}\") \n",
    "\n",
    "\n",
    "tesla1 = Tesla(5,5,\"electric\",True)\n",
    "tesla1.selfdriving()        \n",
    "\n",
    "     "
   ]
  },
  {
   "cell_type": "code",
   "execution_count": null,
   "id": "bae810d7",
   "metadata": {},
   "outputs": [
    {
     "name": "stdout",
     "output_type": "stream",
     "text": [
      "Buddy say woof \n",
      "Owner : Nitish\n"
     ]
    }
   ],
   "source": [
    "### Multiple Inheritance\n",
    "## When a class inherits from more than one base class..\n",
    "## Base class 1\n",
    "\n",
    "class Animal :\n",
    "    def __init__(self,name):\n",
    "        self.name = name\n",
    "\n",
    "    def speak(self):\n",
    "        print(\"Subclass must implement this method\")\n",
    "\n",
    "## Base class 2\n",
    "class pet :\n",
    "    def __init__(self,owner):\n",
    "        self.owner = owner\n",
    "\n",
    "### Derived class \n",
    "class Dog(Animal,pet):\n",
    "    def __init__(self,name,owner):\n",
    "        Animal.__init__(self,name)\n",
    "        pet.__init__(self,owner)\n",
    "\n",
    "    def speak(self):\n",
    "        return f\"{self.name} say woof \"    \n",
    "    \n",
    "## Create an object \n",
    "dog = Dog(\"Buddy\",\"Nitish\")\n",
    "print(dog.speak())\n",
    "print(f\"Owner : {dog.owner}\")"
   ]
  }
 ],
 "metadata": {
  "kernelspec": {
   "display_name": "Python 3",
   "language": "python",
   "name": "python3"
  },
  "language_info": {
   "codemirror_mode": {
    "name": "ipython",
    "version": 3
   },
   "file_extension": ".py",
   "mimetype": "text/x-python",
   "name": "python",
   "nbconvert_exporter": "python",
   "pygments_lexer": "ipython3",
   "version": "3.12.2"
  }
 },
 "nbformat": 4,
 "nbformat_minor": 5
}
