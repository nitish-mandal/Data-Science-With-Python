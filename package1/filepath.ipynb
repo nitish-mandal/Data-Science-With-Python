{
 "cells": [
  {
   "cell_type": "code",
   "execution_count": 1,
   "id": "4e1489d5",
   "metadata": {},
   "outputs": [
    {
     "name": "stdout",
     "output_type": "stream",
     "text": [
      "current working directory is c:\\Users\\HP\\OneDrive\\datascienceudemy\\package1\n"
     ]
    }
   ],
   "source": [
    "## using the os module..\n",
    "\n",
    "import os\n",
    "cwd = os.getcwd()\n",
    "print(f\"current working directory is {cwd}\")"
   ]
  },
  {
   "cell_type": "code",
   "execution_count": 2,
   "id": "006123cb",
   "metadata": {},
   "outputs": [
    {
     "name": "stdout",
     "output_type": "stream",
     "text": [
      "Directory 'package' create\n"
     ]
    }
   ],
   "source": [
    "### create a new directory...\n",
    "\n",
    "new_directory = \"package\"\n",
    "os.mkdir(new_directory)\n",
    "print(f\"Directory '{new_directory}' create\")"
   ]
  },
  {
   "cell_type": "code",
   "execution_count": 6,
   "id": "4cdb6497",
   "metadata": {},
   "outputs": [
    {
     "name": "stdout",
     "output_type": "stream",
     "text": [
      "['filepath.ipynb', 'package']\n"
     ]
    }
   ],
   "source": [
    "### listing files and directories..\n",
    "\n",
    "items = os.listdir('.') ## . means we are currently looking at current working location \n",
    "print(items)"
   ]
  },
  {
   "cell_type": "code",
   "execution_count": 7,
   "id": "4453bd9c",
   "metadata": {},
   "outputs": [
    {
     "name": "stdout",
     "output_type": "stream",
     "text": [
      "folder\\file.txt\n"
     ]
    }
   ],
   "source": [
    "### joining path..\n",
    "\n",
    "dir_name = \"folder\"\n",
    "file_name = \"file.txt\"\n",
    "full_path = os.path.join(dir_name,file_name)\n",
    "print(full_path)"
   ]
  },
  {
   "cell_type": "code",
   "execution_count": 8,
   "id": "493653d5",
   "metadata": {},
   "outputs": [
    {
     "name": "stdout",
     "output_type": "stream",
     "text": [
      "c:\\Users\\HP\\OneDrive\\datascienceudemy\\package1\\folder\\file.txt\n"
     ]
    }
   ],
   "source": [
    "dir_name = \"folder\"\n",
    "file_name = \"file.txt\"\n",
    "full_path = os.path.join(os.getcwd(),dir_name,file_name)## cwd- current working directory..\n",
    "print(full_path)"
   ]
  },
  {
   "cell_type": "code",
   "execution_count": null,
   "id": "1b898952",
   "metadata": {},
   "outputs": [
    {
     "name": "stdout",
     "output_type": "stream",
     "text": [
      "the path 'example1.txt' does not exixts\n"
     ]
    }
   ],
   "source": [
    "## way to check if file is exists or not..\n",
    "path = 'example1.txt'\n",
    "if os .path.exists(path):\n",
    "    print(f\"the path '{path}' exists\")\n",
    "else:\n",
    "    print(f\"the path '{path}' does not exixts\")    \n",
    "    "
   ]
  },
  {
   "cell_type": "code",
   "execution_count": 10,
   "id": "26d7f57e",
   "metadata": {},
   "outputs": [
    {
     "name": "stdout",
     "output_type": "stream",
     "text": [
      "the path 'example.txt' is neither a file directory.\n"
     ]
    }
   ],
   "source": [
    "## checking if a path is a file or directory..\n",
    "\n",
    "import os\n",
    "\n",
    "path =  'example.txt'\n",
    "if os.path.isfile(path):\n",
    "    print(f\"the path '{path}' is a file.\")\n",
    "elif os.path.isdir(path):\n",
    "    print(f\"the path '{path}' is a directory.\") \n",
    "else:\n",
    "    print(f\"the path '{path}' is neither a file directory.\")       "
   ]
  },
  {
   "cell_type": "code",
   "execution_count": 11,
   "id": "c2fa8592",
   "metadata": {},
   "outputs": [
    {
     "name": "stdout",
     "output_type": "stream",
     "text": [
      "c:\\Users\\HP\\OneDrive\\datascienceudemy\\package1\\exampple.txt\n"
     ]
    }
   ],
   "source": [
    "## getting the absolute path..\n",
    "\n",
    "relative_path = 'exampple.txt'\n",
    "absolute_path = os.path.abspath(relative_path)\n",
    "print(absolute_path)"
   ]
  }
 ],
 "metadata": {
  "kernelspec": {
   "display_name": "Python 3",
   "language": "python",
   "name": "python3"
  },
  "language_info": {
   "codemirror_mode": {
    "name": "ipython",
    "version": 3
   },
   "file_extension": ".py",
   "mimetype": "text/x-python",
   "name": "python",
   "nbconvert_exporter": "python",
   "pygments_lexer": "ipython3",
   "version": "3.12.2"
  }
 },
 "nbformat": 4,
 "nbformat_minor": 5
}
