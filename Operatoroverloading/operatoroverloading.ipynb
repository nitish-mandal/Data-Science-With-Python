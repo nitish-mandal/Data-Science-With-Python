{
 "cells": [
  {
   "cell_type": "code",
   "execution_count": null,
   "id": "1feccd28",
   "metadata": {},
   "outputs": [
    {
     "data": {
      "text/plain": [
       "'\\n__add__(self, other): Adds two objects using the + operator\\n__sub__(self, other): Substract two objects  using the - operator \\n__mul__(self, other): Multiplies two objects using the * operator\\n__truediv__(self, other): Divides two objects using the / operator\\n__eq__(self, other): Checks if the objects are equal using the == operator\\n__it__(self,other): Checks if one objects is less than another using the < operator \\n'"
      ]
     },
     "execution_count": 1,
     "metadata": {},
     "output_type": "execute_result"
    }
   ],
   "source": [
    "## Common operator overloading magic methods\n",
    "'''\n",
    "__add__(self, other): Adds two objects using the + operator\n",
    "__sub__(self, other): Substract two objects  using the - operator \n",
    "__mul__(self, other): Multiplies two objects using the * operator\n",
    "__truediv__(self, other): Divides two objects using the / operator\n",
    "__eq__(self, other): Checks if the objects are equal using the == operator\n",
    "__it__(self,other): Checks if one objects is less than another using the < operator \n",
    "'''"
   ]
  },
  {
   "cell_type": "code",
   "execution_count": 8,
   "id": "981a57ea",
   "metadata": {},
   "outputs": [
    {
     "name": "stdout",
     "output_type": "stream",
     "text": [
      "Vector(6, 8)\n",
      "Vector(-2, -2)\n",
      "Vector(6, 9)\n"
     ]
    }
   ],
   "source": [
    "class Vector :\n",
    "    def __init__(self,x,y):\n",
    "        self.x = x\n",
    "        self.y = y\n",
    "    def __add__(self,other):\n",
    "        return Vector(self.x+other.x,self.y+other.y)    \n",
    "    def __sub__(self,other):\n",
    "        return Vector(self.x - other.x, self.y - other.y)\n",
    "    def __mul__(self, other):\n",
    "        return Vector(self.x * other , self.y * other)\n",
    "    def __eq__(self, other):\n",
    "        return self.x == other.x and self.y == other.y\n",
    "    def __repr__(self):\n",
    "        return f\"Vector({self.x}, {self.y})\"  \n",
    "\n",
    "## create objects of the vector class\n",
    "v1 = Vector(2,3)\n",
    "v2 = Vector(4,5)\n",
    "\n",
    "print(v1+v2)  \n",
    "print(v1-v2)\n",
    "print(v1*3)   "
   ]
  }
 ],
 "metadata": {
  "kernelspec": {
   "display_name": "Python 3",
   "language": "python",
   "name": "python3"
  },
  "language_info": {
   "codemirror_mode": {
    "name": "ipython",
    "version": 3
   },
   "file_extension": ".py",
   "mimetype": "text/x-python",
   "name": "python",
   "nbconvert_exporter": "python",
   "pygments_lexer": "ipython3",
   "version": "3.12.2"
  }
 },
 "nbformat": 4,
 "nbformat_minor": 5
}
