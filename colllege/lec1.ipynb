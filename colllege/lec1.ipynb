{
 "cells": [
  {
   "cell_type": "code",
   "execution_count": 3,
   "id": "5de4d3c5",
   "metadata": {},
   "outputs": [
    {
     "name": "stdout",
     "output_type": "stream",
     "text": [
      "15\n"
     ]
    }
   ],
   "source": [
    "def sum_of_list(numbers):\n",
    "    return sum(numbers)\n",
    "\n",
    "print(sum_of_list([1, 2, 3, 4, 5]))  # Output: 15\n"
   ]
  },
  {
   "cell_type": "code",
   "execution_count": 15,
   "id": "aa2ba7e7",
   "metadata": {},
   "outputs": [
    {
     "name": "stdout",
     "output_type": "stream",
     "text": [
      "6\n"
     ]
    }
   ],
   "source": [
    "##Write a Python function that finds and returns the largest element in a given list of integers.\n",
    "\n",
    "def find_largest(numbers):\n",
    "   largest = numbers[0]    \n",
    "   for num in numbers :\n",
    "      if num > largest :\n",
    "         largest = num\n",
    "   return largest\n",
    "\n",
    "nums = [1,2,3,4,5,6]\n",
    "print(find_largest(nums))             "
   ]
  },
  {
   "cell_type": "code",
   "execution_count": 23,
   "id": "bdb5c512",
   "metadata": {},
   "outputs": [
    {
     "name": "stdout",
     "output_type": "stream",
     "text": [
      "[1, 2, 3, 4, 5]\n"
     ]
    }
   ],
   "source": [
    "def remove_duplicates(lst):\n",
    "    return list(set(lst))\n",
    "\n",
    "print(remove_duplicates([1, 2, 2, 3, 4, 4, 5]))\n",
    "# Output (order not guaranteed): [1, 2, 3, 4, 5]\n"
   ]
  },
  {
   "cell_type": "code",
   "execution_count": 25,
   "id": "926edf4b",
   "metadata": {},
   "outputs": [
    {
     "name": "stdout",
     "output_type": "stream",
     "text": [
      "True\n",
      "False\n"
     ]
    }
   ],
   "source": [
    "def check_unique(lst):\n",
    "    return len(lst) == len(set(lst))\n",
    "\n",
    "print(check_unique([1,2,3,4,5]))\n",
    "print(check_unique([1,1,2,2,3,4,5]))\n",
    "    "
   ]
  },
  {
   "cell_type": "code",
   "execution_count": 30,
   "id": "620c4d29",
   "metadata": {},
   "outputs": [
    {
     "name": "stdout",
     "output_type": "stream",
     "text": [
      "(3, 4)\n"
     ]
    }
   ],
   "source": [
    "def count_even_odd(lst):\n",
    "    even_count = 0\n",
    "    odd_count = 0\n",
    "    \n",
    "    for num in lst:\n",
    "        if num % 2 == 0:\n",
    "            even_count += 1\n",
    "        else:\n",
    "            odd_count += 1\n",
    "    \n",
    "    return even_count, odd_count\n",
    "\n",
    "# Example usage:\n",
    "numbers = [1, 2, 3, 4, 5, 6, 7]\n",
    "print(count_even_odd(numbers))  \n",
    "# Output: (3, 4) → 3 even, 4 odd\n"
   ]
  },
  {
   "cell_type": "code",
   "execution_count": 4,
   "id": "a847a1b0",
   "metadata": {},
   "outputs": [
    {
     "name": "stdout",
     "output_type": "stream",
     "text": [
      "True\n"
     ]
    }
   ],
   "source": [
    "## Check if List is Subset of Another List\n",
    "def is_subset(lst1, lst2):\n",
    "    for item in lst1:\n",
    "        found = False\n",
    "        for element in lst2:\n",
    "            if item==element:\n",
    "                found = True\n",
    "                break\n",
    "        if not found:\n",
    "            return False           \n",
    "    return True\n",
    "\n",
    "lst1= [1,2,3,4]\n",
    "lst2 = [1,2,3,4,5,6,7]\n",
    "print(is_subset(lst1,lst2))        \n",
    "\n",
    "\n",
    "    "
   ]
  },
  {
   "cell_type": "code",
   "execution_count": null,
   "id": "848c3c86",
   "metadata": {},
   "outputs": [],
   "source": [
    "## Maximum Difference between 2 consecutive elements in a List\n",
    "\n",
    "def max_consecutive_difference(lst):\n",
    "    max_value = 0\n",
    "    for max_value  \n"
   ]
  }
 ],
 "metadata": {
  "kernelspec": {
   "display_name": "Python 3",
   "language": "python",
   "name": "python3"
  },
  "language_info": {
   "codemirror_mode": {
    "name": "ipython",
    "version": 3
   },
   "file_extension": ".py",
   "mimetype": "text/x-python",
   "name": "python",
   "nbconvert_exporter": "python",
   "pygments_lexer": "ipython3",
   "version": "3.12.2"
  }
 },
 "nbformat": 4,
 "nbformat_minor": 5
}
