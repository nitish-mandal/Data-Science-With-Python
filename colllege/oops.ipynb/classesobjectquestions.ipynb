{
 "cells": [
  {
   "cell_type": "markdown",
   "id": "39482c86",
   "metadata": {},
   "source": [
    "# Module: Classes and Objects Assignments\n",
    "## Lesson: Creating and Working with Classes and Objects\n",
    "### Assignment 1: Basic Class and Object Creation\n",
    "\n",
    "Create a class named `Car` with attributes `make`, `model`, and `year`. Create an object of the class and print its attributes.\n",
    "\n",
    "### Assignment 2: Methods in Class\n",
    "\n",
    "Add a method named `start_engine` to the `Car` class that prints a message when the engine starts. Create an object of the class and call the method.\n",
    "\n",
    "### Assignment 3: Class with Constructor\n",
    "\n",
    "Create a class named `Student` with attributes `name` and `age`. Use a constructor to initialize these attributes. Create an object of the class and print its attributes.\n",
    "\n",
    "### Assignment 4: Class with Private Attributes\n",
    "\n",
    "Create a class named `BankAccount` with private attributes `account_number` and `balance`. Add methods to deposit and withdraw money, and to check the balance. Create an object of the class and perform some operations.\n",
    "\n",
    "### Assignment 5: Class Inheritance\n",
    "\n",
    "Create a base class named `Person` with attributes `name` and `age`. Create a derived class named `Employee` that inherits from `Person` and adds an attribute `employee_id`. Create an object of the derived class and print its attributes.\n",
    "\n",
    "### Assignment 6: Method Overriding\n",
    "\n",
    "In the `Employee` class, override the `__str__` method to return a string representation of the object. Create an object of the class and print it.\n",
    "\n",
    "### Assignment 7: Class Composition\n",
    "\n",
    "Create a class named `Address` with attributes `street`, `city`, and `zipcode`. Create a class named `Person` that has an `Address` object as an attribute. Create an object of the `Person` class and print its address.\n",
    "\n",
    "### Assignment 8: Class with Class Variables\n",
    "\n",
    "Create a class named `Counter` with a class variable `count`. Each time an object is created, increment the count. Add a method to get the current count. Create multiple objects and print the count.\n",
    "\n",
    "### Assignment 9: Static Methods\n",
    "\n",
    "Create a class named `MathOperations` with a static method to calculate the square root of a number. Call the static method without creating an object.\n",
    "\n",
    "### Assignment 10: Class with Properties\n",
    "\n",
    "Create a class named `Rectangle` with private attributes `length` and `width`. Use properties to get and set these attributes. Create an object of the class and test the properties.\n",
    "\n",
    "### Assignment 11: Abstract Base Class\n",
    "\n",
    "Create an abstract base class named `Shape` with an abstract method `area`. Create derived classes `Circle` and `Square` that implement the `area` method. Create objects of the derived classes and call the `area` method.\n",
    "\n",
    "### Assignment 12: Operator Overloading\n",
    "\n",
    "Create a class named `Vector` with attributes `x` and `y`. Overload the `+` operator to add two `Vector` objects. Create objects of the class and test the operator overloading.\n",
    "\n",
    "### Assignment 13: Class with Custom Exception\n",
    "\n",
    "Create a custom exception named `InsufficientBalanceError`. In the `BankAccount` class, raise this exception when a withdrawal amount is greater than the balance. Handle the exception and print an appropriate message.\n",
    "\n",
    "### Assignment 14: Class with Context Manager\n",
    "\n",
    "Create a class named `FileManager` that implements the context manager protocol to open and close a file. Use this class to read the contents of a file.\n",
    "\n",
    "### Assignment 15: Chaining Methods\n",
    "\n",
    "Create a class named `Calculator` with methods to add, subtract, multiply, and divide. Each method should return the object itself to allow method chaining. Create an object and chain multiple method calls."
   ]
  },
  {
   "cell_type": "code",
   "execution_count": null,
   "id": "f5740211",
   "metadata": {},
   "outputs": [
    {
     "name": "stdout",
     "output_type": "stream",
     "text": [
      "BMW M5CSF90 2018\n"
     ]
    }
   ],
   "source": [
    "### Create a class named `Car` with attributes `make`, `model`, and `year`. Create an object\n",
    "#  of the class and print its attributes.\n",
    "\n",
    "class Car:\n",
    "    def __init__(self, make, model, year) :\n",
    "        self.make = make\n",
    "        self.model = model\n",
    "        self.year = year\n",
    "    \n",
    "car = Car('BMW','M5CSF90',2018)\n",
    "print(car.make, car.model, car.year )\n",
    "                        "
   ]
  },
  {
   "cell_type": "code",
   "execution_count": 27,
   "id": "6d323351",
   "metadata": {},
   "outputs": [
    {
     "name": "stdout",
     "output_type": "stream",
     "text": [
      " Engine has started  \n"
     ]
    }
   ],
   "source": [
    "## Add a method named `start_engine` to the `Car` class that prints a message when the engine starts. Create an\n",
    "#  object of the class and call the method.\n",
    "\n",
    "class Car :\n",
    "    def __init__(self,make , model, year):\n",
    "        self.make = make\n",
    "        self.model = model\n",
    "        self.year = year \n",
    "\n",
    "\n",
    "    def show(self):\n",
    "        print(\" Engine has started  \") \n",
    "\n",
    "car = Car('BMW','M5CSF90',2018)\n",
    "car.show()           \n",
    "\n"
   ]
  },
  {
   "cell_type": "code",
   "execution_count": 34,
   "id": "021427fd",
   "metadata": {},
   "outputs": [
    {
     "name": "stdout",
     "output_type": "stream",
     "text": [
      "nitish 20\n"
     ]
    }
   ],
   "source": [
    "### Create a class named `Student` with attributes `name` and `age`. Use a constructor to initialize these \n",
    "# attributes. Create an object of the class and print its attributes.\n",
    "\n",
    "\n",
    "class Student :\n",
    "    def __init__(self,name,age):\n",
    "        self.name = name\n",
    "        self.age = age\n",
    "\n",
    "student = Student('nitish', 20)\n",
    "print(student.name,student.age)        \n"
   ]
  },
  {
   "cell_type": "code",
   "execution_count": 5,
   "id": "0dcdb72f",
   "metadata": {},
   "outputs": [
    {
     "name": "stdout",
     "output_type": "stream",
     "text": [
      "10000\n",
      "8000\n",
      "Insufficient Funds!\n"
     ]
    }
   ],
   "source": [
    "## Create a class named `BankAccount` with private attributes `account_number` and `balance`. Add methods to deposit \n",
    "# and withdraw money, and to check the balance. Create an object of the class and perform some operations.\n",
    "\n",
    "\n",
    "class BankAccount:\n",
    "    def __init__(self, account_number, balance=0):\n",
    "        self.account_number = account_number\n",
    "        self.balance = balance\n",
    "\n",
    "    def deposit(self, amount):\n",
    "        self.balance += amount  # Corrected from self.amount += amount\n",
    "\n",
    "    def withdraw(self, amount):\n",
    "        if amount > self.balance:\n",
    "            print(\"Insufficient Funds!\")\n",
    "        else:\n",
    "            self.balance -= amount\n",
    "\n",
    "    def check_balance(self):\n",
    "        return self.balance\n",
    "\n",
    "# Example usage\n",
    "account = BankAccount(12234233, 10000)\n",
    "print(account.balance)  # Output: 10000\n",
    "\n",
    "account.deposit(1000)\n",
    "account.withdraw(3000)\n",
    "print(account.check_balance())  # Output: 8000\n",
    "\n",
    "account.withdraw(20000)  # Output: Insufficient Funds!\n"
   ]
  },
  {
   "cell_type": "code",
   "execution_count": 8,
   "id": "08a6f175",
   "metadata": {},
   "outputs": [
    {
     "name": "stdout",
     "output_type": "stream",
     "text": [
      " Name : Nitish\n",
      " Age : 20\n",
      "Employee ID : E23KIn\n"
     ]
    }
   ],
   "source": [
    "## Create a base class named `Person` with attributes `name` and `age`. Create a derived class named `Employee` that \n",
    "# inherits from `Person` and adds an attribute `employee_id`. Create an object of the derived class and print its\n",
    "#  attributes.\n",
    "\n",
    "\n",
    "class person :\n",
    "    def __init__(self,name,age):\n",
    "        self.name = name\n",
    "        self.age  = age\n",
    "\n",
    "    \n",
    "class Employee(person):\n",
    "    def __init__(self,name,age,employee_id):\n",
    "        super().__init__(name,age)\n",
    "        self.employee_id = employee_id\n",
    "\n",
    "employee = Employee(\"Nitish\",20,\"E23KIn\")\n",
    "print(f\" Name : {employee.name}\")\n",
    "print(f\" Age : {employee.age}\")\n",
    "print(f\"Employee ID : {employee.employee_id}\")    \n"
   ]
  },
  {
   "cell_type": "code",
   "execution_count": 21,
   "id": "6aa76258",
   "metadata": {},
   "outputs": [
    {
     "name": "stdout",
     "output_type": "stream",
     "text": [
      "Employee(Name: Nitish, Age : 20, employee_id : E23KIn \n"
     ]
    }
   ],
   "source": [
    "### In the `Employee` class, override the `__str__` method to return a string representation of the object. Create \n",
    "# an object of the class and print it.\n",
    "\n",
    "\n",
    "\n",
    "class Person:\n",
    "    def __init__(self, name, age):\n",
    "        self.name = name\n",
    "        self.age = age\n",
    "    \n",
    "class Employee(person) :\n",
    "    def __init__(self,name,age,employee_id):\n",
    "        super().__init__(name,age)\n",
    "        self.employee_id = employee_id\n",
    "\n",
    "    def __str__(self):\n",
    "        return f\"Employee(Name: {self.name}, Age : {self.age}, employee_id : {self.employee_id} \"\n",
    "    \n",
    "employee = Employee(\"Nitish\", 20 ,\"E23KIn\")  \n",
    "print(employee)  \n"
   ]
  },
  {
   "cell_type": "code",
   "execution_count": null,
   "id": "c06aec56",
   "metadata": {},
   "outputs": [
    {
     "name": "stdout",
     "output_type": "stream",
     "text": [
      "selaqui dehradun 845464\n"
     ]
    }
   ],
   "source": [
    "## Create a class named `Address` with attributes `street`, `city`, and `zipcode`. Create a class named `Person` \n",
    "# that has an `Address` object as an attribute. Create an object of the `Person` class and print its address.\n",
    "\n",
    "\n",
    "class Address :\n",
    "    def __init__(self, street, city, zipcode):\n",
    "        self.street = street \n",
    "        self.city = city\n",
    "        self.zipcode = zipcode\n",
    "\n",
    "class person :\n",
    "    def __init__(self, name, age, address):\n",
    "        self.name = name\n",
    "        self.age = age\n",
    "        self.address = address\n",
    "\n",
    "address = Address('selaqui','dehradun','845464')\n",
    "person = person('nitish',20,address)\n",
    "print(person.address.street, person.address.city, person.address.zipcode)\n"
   ]
  },
  {
   "cell_type": "code",
   "execution_count": null,
   "id": "efaa2866",
   "metadata": {},
   "outputs": [
    {
     "name": "stdout",
     "output_type": "stream",
     "text": [
      "3\n"
     ]
    }
   ],
   "source": [
    "### Create a class named `Counter` with a class variable `count`. Each time an object is created, increment the count.\n",
    "#  Add a method to get the current count. Create multiple objects and print the count.\n",
    "\n",
    "class Counter :\n",
    "    count = 0\n",
    "    def __init__(self):\n",
    "        Counter.count += 1\n",
    "\n",
    "    @classmethod\n",
    "    def get_count(cls):\n",
    "        return cls.count\n",
    "\n",
    "c1 = Counter()        \n",
    "c2 = Counter()\n",
    "c3 = Counter()\n",
    "print(Counter.get_count())"
   ]
  },
  {
   "cell_type": "code",
   "execution_count": 48,
   "id": "3775c127",
   "metadata": {},
   "outputs": [
    {
     "name": "stdout",
     "output_type": "stream",
     "text": [
      "4.0\n"
     ]
    }
   ],
   "source": [
    "## Create a class named `MathOperations` with a static method to calculate the square root of a number. Call the \n",
    "# static method without creating an object.\n",
    "\n",
    "import math\n",
    "\n",
    "class MathOperations :\n",
    "    @staticmethod\n",
    "\n",
    "    def sqrt(x):\n",
    "        return math.sqrt(x)\n",
    "\n",
    "print(MathOperations.sqrt(16))     "
   ]
  }
 ],
 "metadata": {
  "kernelspec": {
   "display_name": "Python 3",
   "language": "python",
   "name": "python3"
  },
  "language_info": {
   "codemirror_mode": {
    "name": "ipython",
    "version": 3
   },
   "file_extension": ".py",
   "mimetype": "text/x-python",
   "name": "python",
   "nbconvert_exporter": "python",
   "pygments_lexer": "ipython3",
   "version": "3.12.2"
  }
 },
 "nbformat": 4,
 "nbformat_minor": 5
}
